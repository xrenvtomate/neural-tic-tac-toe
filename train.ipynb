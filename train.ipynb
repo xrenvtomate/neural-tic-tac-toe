{
 "cells": [
  {
   "cell_type": "code",
   "execution_count": null,
   "metadata": {},
   "outputs": [],
   "source": [
    "import numpy as np\n",
    "import random\n",
    "from matplotlib import pyplot as plt"
   ]
  },
  {
   "cell_type": "code",
   "execution_count": null,
   "metadata": {},
   "outputs": [],
   "source": [
    "from game import Game\n",
    "from nnconfig import hidden_neurons as h_n, epochs\n",
    "from utils import field_to_1d, forward_pass, error_backprop"
   ]
  },
  {
   "cell_type": "code",
   "execution_count": null,
   "metadata": {},
   "outputs": [],
   "source": [
    "h = np.zeros(h_n)\n",
    "w_h = np.random.uniform(-0.5, 0.5, (h_n, 18))\n",
    "b_h = np.zeros((h_n, 1))\n",
    "o = np.zeros(9)\n",
    "w_o = np.random.uniform(-0.5, 0.5, (9, h_n))\n",
    "b_o = np.zeros((9, 1))\n",
    "nn_params = [w_h, b_h, w_o, b_o]"
   ]
  },
  {
   "cell_type": "code",
   "execution_count": null,
   "metadata": {},
   "outputs": [],
   "source": [
    "x_epochs = []\n",
    "y_wins = []\n",
    "\n",
    "wins = draw = loss = 0\n",
    "for epoch in range(1, epochs + 1):\n",
    "    moves = []\n",
    "    game = Game()\n",
    "    res = 0\n",
    "    p = p_start = random.randint(1, 2)\n",
    "    while res == 0:\n",
    "        field_1d = field_to_1d(game.field)\n",
    "        preds = forward_pass(field_1d, *nn_params)\n",
    "        free_cells = filter(lambda x: game.field[x // 3][x % 3] == 0, range(9))\n",
    "        if p == 1:\n",
    "            chosen_cell = max(free_cells, key=lambda x: preds[x])\n",
    "        else:\n",
    "            chosen_cell = random.choice(list(free_cells))\n",
    "        x, y = chosen_cell % 3, chosen_cell // 3\n",
    "        if p == 1:\n",
    "            moves.append((field_1d, chosen_cell))\n",
    "\n",
    "        game.place(p, x, y)\n",
    "        res = game.check_game()\n",
    "        p = 3 - p\n",
    "\n",
    "    is_well_played = (res == 3) or res == 1\n",
    "    for case in moves:\n",
    "        error_backprop(*case, is_well_played, *nn_params)\n",
    "    if not is_well_played:\n",
    "        for _ in range(7):\n",
    "            error_backprop(*moves[-1], is_well_played, *nn_params)\n",
    "\n",
    "    if epoch % 10000 == 0:\n",
    "        print('epoch: ', epoch)\n",
    "        print(f'wins: {100 * wins // 10000}%')\n",
    "        print(f'loss: {100 * loss}%')\n",
    "        print(f'draw: {100 * draw // 10000}%')\n",
    "        x_epochs.append(epoch)\n",
    "        y_wins.append(wins / 10000)\n",
    "\n",
    "        wins = draw = loss = 0\n",
    "\n",
    "    if res == 1:\n",
    "        wins += 1\n",
    "    elif res == 2:\n",
    "        loss += 1\n",
    "    else:\n",
    "        draw += 1"
   ]
  },
  {
   "cell_type": "code",
   "execution_count": null,
   "metadata": {},
   "outputs": [],
   "source": [
    "plt.plot(x_epochs, y_wins)\n",
    "plt.ylim((0, 1))\n",
    "plt.show()\n",
    "ans = input('wanna save model? \"y\" to save: ')\n",
    "if ans == 'y':\n",
    "    np.save('dumps/w_o.npy', w_o)\n",
    "    np.save('dumps/b_o.npy', b_o)\n",
    "    np.save('dumps/w_h.npy', w_h)\n",
    "    np.save('dumps/b_h.npy', b_h)"
   ]
  }
 ],
 "metadata": {
  "kernelspec": {
   "display_name": "Python 3",
   "language": "python",
   "name": "python3"
  },
  "language_info": {
   "codemirror_mode": {
    "name": "ipython",
    "version": 3
   },
   "file_extension": ".py",
   "mimetype": "text/x-python",
   "name": "python",
   "nbconvert_exporter": "python",
   "pygments_lexer": "ipython3",
   "version": "3.10.7"
  },
  "orig_nbformat": 4,
  "vscode": {
   "interpreter": {
    "hash": "6bd114aba23dfc07772820610b8dcf45453a7ee194542aae06056fc89c4175d0"
   }
  }
 },
 "nbformat": 4,
 "nbformat_minor": 2
}
